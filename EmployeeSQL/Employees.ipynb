{
 "cells": [
  {
   "cell_type": "code",
   "execution_count": 10,
   "metadata": {},
   "outputs": [
    {
     "name": "stdout",
     "output_type": "stream",
     "text": [
      "Collecting psycopg2-binary\n",
      "  Downloading psycopg2_binary-2.8.5-cp36-cp36m-macosx_10_6_intel.macosx_10_9_intel.macosx_10_9_x86_64.macosx_10_10_intel.macosx_10_10_x86_64.whl (1.5 MB)\n",
      "\u001b[K     |████████████████████████████████| 1.5 MB 627 kB/s eta 0:00:01\n",
      "\u001b[?25hInstalling collected packages: psycopg2-binary\n",
      "Successfully installed psycopg2-binary-2.8.5\n"
     ]
    }
   ],
   "source": [
    "!pip install psycopg2-binary"
   ]
  },
  {
   "cell_type": "code",
   "execution_count": 1,
   "metadata": {},
   "outputs": [],
   "source": [
    "import pandas as pd\n",
    "import psycopg2\n",
    "from sqlalchemy import create_engine\n",
    "from config import password\n",
    "import matplotlib.pyplot as plt\n",
    "import numpy as np\n"
   ]
  },
  {
   "cell_type": "code",
   "execution_count": 2,
   "metadata": {},
   "outputs": [],
   "source": [
    "# import the SQL database\n",
    "\n",
    "conn=psycopg2.connect(host=\"localhost\",port=5432,database=\"employee_db\", user='postgres', password=password)\n",
    "#engine = create_engine(f'postgresql//localhost:5432/employee_db')"
   ]
  },
  {
   "cell_type": "code",
   "execution_count": 3,
   "metadata": {},
   "outputs": [],
   "source": [
    "cur = conn.cursor()"
   ]
  },
  {
   "cell_type": "code",
   "execution_count": 4,
   "metadata": {},
   "outputs": [
    {
     "data": {
      "text/plain": [
       "[(10005, 78228, 'Staff'),\n",
       " (10010, 72488, 'Engineer'),\n",
       " (10011, 42365, 'Staff'),\n",
       " (10018, 55881, 'Senior Engineer'),\n",
       " (10035, 41538, 'Senior Engineer')]"
      ]
     },
     "execution_count": 4,
     "metadata": {},
     "output_type": "execute_result"
    }
   ],
   "source": [
    "#Query the employee data\n",
    "cur.execute(\"SELECT s.emp_no, s.salary, t.title FROM salaries as s JOIN employees as e on s.emp_no = e.emp_no JOIN titles as t on e.emp_title = t.title_id\")\n",
    "emp_query_results=cur.fetchall()\n",
    "emp_query_results[0:5]"
   ]
  },
  {
   "cell_type": "code",
   "execution_count": 5,
   "metadata": {},
   "outputs": [],
   "source": [
    "#Query the salaries data\n",
    "# cur.execute(\"SELECT * FROM salaries\")\n",
    "# sal_query_results=cur.fetchall()\n",
    "# sal_query_results[0:5]"
   ]
  },
  {
   "cell_type": "code",
   "execution_count": 6,
   "metadata": {},
   "outputs": [],
   "source": [
    "#Query the titles data\n",
    "# cur.execute(\"SELECT * FROM titles\")\n",
    "# emp_query_results=cur.fetchall()\n",
    "# emp_query_results[0:5]"
   ]
  },
  {
   "cell_type": "code",
   "execution_count": 7,
   "metadata": {},
   "outputs": [],
   "source": [
    "# emp_df = pd.DataFrame {\n",
    "#     \"emp_no\": emp_query_results[0]\n",
    "# }\n",
    "emp_no=[]\n",
    "salary=[]\n",
    "title=[]\n",
    "for row in emp_query_results:\n",
    "    emp_no.append(row[0])\n",
    "    salary.append(row[1])\n",
    "    title.append(row[2])\n",
    "    \n",
    "\n"
   ]
  },
  {
   "cell_type": "code",
   "execution_count": 8,
   "metadata": {},
   "outputs": [
    {
     "data": {
      "text/html": [
       "<div>\n",
       "<style scoped>\n",
       "    .dataframe tbody tr th:only-of-type {\n",
       "        vertical-align: middle;\n",
       "    }\n",
       "\n",
       "    .dataframe tbody tr th {\n",
       "        vertical-align: top;\n",
       "    }\n",
       "\n",
       "    .dataframe thead th {\n",
       "        text-align: right;\n",
       "    }\n",
       "</style>\n",
       "<table border=\"1\" class=\"dataframe\">\n",
       "  <thead>\n",
       "    <tr style=\"text-align: right;\">\n",
       "      <th></th>\n",
       "      <th>Employee No</th>\n",
       "      <th>Salary</th>\n",
       "      <th>Title</th>\n",
       "    </tr>\n",
       "  </thead>\n",
       "  <tbody>\n",
       "    <tr>\n",
       "      <th>0</th>\n",
       "      <td>10005</td>\n",
       "      <td>78228</td>\n",
       "      <td>Staff</td>\n",
       "    </tr>\n",
       "    <tr>\n",
       "      <th>1</th>\n",
       "      <td>10010</td>\n",
       "      <td>72488</td>\n",
       "      <td>Engineer</td>\n",
       "    </tr>\n",
       "    <tr>\n",
       "      <th>2</th>\n",
       "      <td>10011</td>\n",
       "      <td>42365</td>\n",
       "      <td>Staff</td>\n",
       "    </tr>\n",
       "    <tr>\n",
       "      <th>3</th>\n",
       "      <td>10018</td>\n",
       "      <td>55881</td>\n",
       "      <td>Senior Engineer</td>\n",
       "    </tr>\n",
       "    <tr>\n",
       "      <th>4</th>\n",
       "      <td>10035</td>\n",
       "      <td>41538</td>\n",
       "      <td>Senior Engineer</td>\n",
       "    </tr>\n",
       "  </tbody>\n",
       "</table>\n",
       "</div>"
      ],
      "text/plain": [
       "   Employee No  Salary            Title\n",
       "0        10005   78228            Staff\n",
       "1        10010   72488         Engineer\n",
       "2        10011   42365            Staff\n",
       "3        10018   55881  Senior Engineer\n",
       "4        10035   41538  Senior Engineer"
      ]
     },
     "execution_count": 8,
     "metadata": {},
     "output_type": "execute_result"
    }
   ],
   "source": [
    "#Put the query into a dataframe\n",
    "salary_df = pd.DataFrame({\n",
    "    \"Employee No\": emp_no,\n",
    "    \"Salary\": salary,\n",
    "    \"Title\": title\n",
    "})\n",
    "\n",
    "salary_df.head()"
   ]
  },
  {
   "cell_type": "code",
   "execution_count": 23,
   "metadata": {},
   "outputs": [
    {
     "data": {
      "image/png": "[encoded data removed]",
      "text/plain": [
       "<Figure size 432x288 with 1 Axes>"
      ]
     },
     "metadata": {
      "needs_background": "light"
     },
     "output_type": "display_data"
    }
   ],
   "source": [
    "#Create histogram of Salaries\n",
    "plt.hist(salary_df[\"Salary\"])\n",
    "#plt.xlabel(\"Salary\")\n",
    "plt.ylabel(\"Counts\")\n",
    "plt.xlabel(\"Salary\")\n",
    "plt.title(\"Salaries\")\n",
    "\n",
    "plt.savefig(\"Salary_histogram.png\")\n",
    "\n",
    "plt.show()"
   ]
  },
  {
   "cell_type": "code",
   "execution_count": 24,
   "metadata": {},
   "outputs": [
    {
     "data": {
      "text/plain": [
       "Title\n",
       "Assistant Engineer    48564.43\n",
       "Engineer              48535.34\n",
       "Manager               51531.04\n",
       "Senior Engineer       48506.80\n",
       "Senior Staff          58550.17\n",
       "Staff                 58465.38\n",
       "Technique Leader      48582.90\n",
       "Name: Salary, dtype: float64"
      ]
     },
     "execution_count": 24,
     "metadata": {},
     "output_type": "execute_result"
    }
   ],
   "source": [
    "#Group by Title\n",
    "title_groups = salary_df.groupby('Title')\n",
    "\n",
    "title_salary = round(title_groups['Salary'].mean(),2)\n",
    "\n",
    "title_salary"
   ]
  },
  {
   "cell_type": "code",
   "execution_count": 26,
   "metadata": {},
   "outputs": [
    {
     "data": {
      "image/png": "[encoded data removed]",
      "text/plain": [
       "<Figure size 720x360 with 1 Axes>"
      ]
     },
     "metadata": {
      "needs_background": "light"
     },
     "output_type": "display_data"
    }
   ],
   "source": [
    "title_salary.plot(kind='bar',rot=45, figsize=(10,5), color='violet')\n",
    "plt.xlabel(\"Job Title\")\n",
    "plt.ylabel(\"Average Salary\")\n",
    "plt.title(\"Average Salary by Job Title\")\n",
    "\n",
    "plt.savefig(\"Salary_by_Title_barchart.png\")\n",
    "\n",
    "plt.show()\n"
   ]
  },
  {
   "cell_type": "code",
   "execution_count": null,
   "metadata": {},
   "outputs": [],
   "source": []
  }
 ],
 "metadata": {
  "kernelspec": {
   "display_name": "Python 3",
   "language": "python",
   "name": "python3"
  },
  "language_info": {
   "codemirror_mode": {
    "name": "ipython",
    "version": 3
   },
   "file_extension": ".py",
   "mimetype": "text/x-python",
   "name": "python",
   "nbconvert_exporter": "python",
   "pygments_lexer": "ipython3",
   "version": "3.6.10"
  }
 },
 "nbformat": 4,
 "nbformat_minor": 4
}
